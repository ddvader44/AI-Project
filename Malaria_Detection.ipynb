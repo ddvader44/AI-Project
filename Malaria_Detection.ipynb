{
  "nbformat": 4,
  "nbformat_minor": 0,
  "metadata": {
    "accelerator": "TPU",
    "colab": {
      "name": "Malaria_Detection.ipynb",
      "provenance": [],
      "collapsed_sections": []
    },
    "kernelspec": {
      "display_name": "Python 3",
      "name": "python3"
    },
    "language_info": {
      "name": "python"
    }
  },
  "cells": [
    {
      "cell_type": "markdown",
      "metadata": {
        "id": "Jm-j4iAg3WnZ"
      },
      "source": [
        "# MALARIAL PARASITE DETECTION USING DEEP LEARNING"
      ]
    },
    {
      "cell_type": "code",
      "metadata": {
        "id": "o8jdwLQq1zxw"
      },
      "source": [
        "#!pip install tensorflow-gpu==2.0.0-rc0"
      ],
      "execution_count": 1,
      "outputs": []
    },
    {
      "cell_type": "code",
      "metadata": {
        "id": "jVaFuwPxp-Ct"
      },
      "source": [
        "#!pip install --upgrade tensorflow-gpu==2.2.0 --user\n",
        "#!pip uninstall tensorflow-datasets\n",
        "#!pip install tensorflow-datasets==4.0.0"
      ],
      "execution_count": 2,
      "outputs": []
    },
    {
      "cell_type": "code",
      "metadata": {
        "colab": {
          "base_uri": "https://localhost:8080/"
        },
        "id": "k-xZZWAe4H-C",
        "outputId": "ecc6d98e-ec93-4046-eacf-30f285290e30"
      },
      "source": [
        "import tensorflow as tf\n",
        "\n",
        "from tensorflow.keras import Sequential\n",
        "from tensorflow.keras.layers import Flatten, Dense, Conv2D, MaxPool2D,ZeroPadding2D, Dropout\n",
        "from tensorflow.keras.preprocessing.image import ImageDataGenerator\n",
        "from tensorflow.keras import optimizers\n",
        "\n",
        "print(tf.__version__)"
      ],
      "execution_count": 3,
      "outputs": [
        {
          "output_type": "stream",
          "name": "stdout",
          "text": [
            "2.7.0\n"
          ]
        }
      ]
    },
    {
      "cell_type": "code",
      "metadata": {
        "id": "Ws_4dNl65FBN"
      },
      "source": [
        "import numpy as np\n",
        "import matplotlib.pyplot as plt "
      ],
      "execution_count": 4,
      "outputs": []
    },
    {
      "cell_type": "code",
      "metadata": {
        "id": "aF4w0kLwzgLw"
      },
      "source": [
        ""
      ],
      "execution_count": 4,
      "outputs": []
    },
    {
      "cell_type": "markdown",
      "metadata": {
        "id": "m5Xog-Nkzh7A"
      },
      "source": [
        "### LOADING THE DATASET "
      ]
    },
    {
      "cell_type": "code",
      "metadata": {
        "colab": {
          "base_uri": "https://localhost:8080/"
        },
        "id": "JHIsPTkw5PSw",
        "outputId": "21285e94-3018-47e0-9e5e-109ea3a97782"
      },
      "source": [
        "!git clone https://github.com/ddvader44/AI-Project.git"
      ],
      "execution_count": 5,
      "outputs": [
        {
          "output_type": "stream",
          "name": "stdout",
          "text": [
            "Cloning into 'AI-Project'...\n",
            "remote: Enumerating objects: 27574, done.\u001b[K\n",
            "remote: Counting objects: 100% (27574/27574), done.\u001b[K\n",
            "remote: Compressing objects: 100% (27572/27572), done.\u001b[K\n",
            "remote: Total 27574 (delta 0), reused 27574 (delta 0), pack-reused 0\n",
            "Receiving objects: 100% (27574/27574), 332.07 MiB | 44.37 MiB/s, done.\n",
            "Checking out files: 100% (27565/27565), done.\n"
          ]
        }
      ]
    },
    {
      "cell_type": "code",
      "metadata": {
        "id": "CDogoZ5IaWm3"
      },
      "source": [
        ""
      ],
      "execution_count": 5,
      "outputs": []
    },
    {
      "cell_type": "markdown",
      "metadata": {
        "id": "cFwWtBjO0bAw"
      },
      "source": [
        "The original dataset can be found on the official NIH Website: https://ceb.nlm.nih.gov/repositories/malaria-datasets/ , also available on kaggle."
      ]
    },
    {
      "cell_type": "markdown",
      "metadata": {
        "id": "c-H23NplIsK1"
      },
      "source": [
        "## IMAGE PREPROCESSING"
      ]
    },
    {
      "cell_type": "code",
      "metadata": {
        "id": "UocmR80b5lmQ"
      },
      "source": [
        "img_width = 64\n",
        "img_height = 64"
      ],
      "execution_count": 6,
      "outputs": []
    },
    {
      "cell_type": "code",
      "metadata": {
        "id": "Vu6fpLpc6FQP"
      },
      "source": [
        "datagen = ImageDataGenerator(rescale=1/255.0,\n",
        "                             validation_split=0.2,\n",
        "                             horizontal_flip=True,\n",
        "                             vertical_flip=True,\n",
        "                             #rotation_angle=45,\n",
        "                             shear_range=16\n",
        "                             )"
      ],
      "execution_count": 7,
      "outputs": []
    },
    {
      "cell_type": "code",
      "metadata": {
        "colab": {
          "base_uri": "https://localhost:8080/"
        },
        "id": "mt0gcgAc6ZX4",
        "outputId": "4ff52d92-8f9a-477d-e792-0a20331aeb8e"
      },
      "source": [
        "train_data_generator = datagen.flow_from_directory(directory = '/content/AI-Project/malaria-dataset', \n",
        "                                                   target_size=(img_width, img_height), \n",
        "                                                   class_mode='binary', \n",
        "                                                   batch_size = 16, \n",
        "                                                   subset = 'training',\n",
        "                                                   #color_mode = 'grayscale',\n",
        "                                                   interpolation = 'nearest',\n",
        "                                                   shuffle=True,\n",
        "                                                   seed=42\n",
        "                                                   \n",
        "                                                   \n",
        "                                                    )"
      ],
      "execution_count": 8,
      "outputs": [
        {
          "output_type": "stream",
          "name": "stdout",
          "text": [
            "Found 22048 images belonging to 2 classes.\n"
          ]
        }
      ]
    },
    {
      "cell_type": "code",
      "metadata": {
        "colab": {
          "base_uri": "https://localhost:8080/"
        },
        "id": "ZFCKhAdI7St_",
        "outputId": "783ed9a0-8d29-4c08-b539-4e2d7b1c95d6"
      },
      "source": [
        "validation_data_generator = datagen.flow_from_directory(directory = '/content/AI-Project/malaria-dataset',\n",
        "                                                        target_size=(img_width, img_height), \n",
        "                                                        class_mode='binary',\n",
        "                                                        batch_size = 16, \n",
        "                                                        subset = 'validation' ,\n",
        "                                                        #color_mode = 'grayscale',\n",
        "                                                        interpolation = 'nearest',\n",
        "                                                        shuffle=True,\n",
        "                                                        seed=42                                                       \n",
        "                                                        \n",
        "                                                        )"
      ],
      "execution_count": 9,
      "outputs": [
        {
          "output_type": "stream",
          "name": "stdout",
          "text": [
            "Found 5510 images belonging to 2 classes.\n"
          ]
        }
      ]
    },
    {
      "cell_type": "code",
      "metadata": {
        "colab": {
          "base_uri": "https://localhost:8080/"
        },
        "id": "J_BWrDw07xZ2",
        "outputId": "921f0068-0a08-4734-ad0d-3c2c5e55d5f6"
      },
      "source": [
        "train_data_generator.labels"
      ],
      "execution_count": 10,
      "outputs": [
        {
          "output_type": "execute_result",
          "data": {
            "text/plain": [
              "array([0, 0, 0, ..., 1, 1, 1], dtype=int32)"
            ]
          },
          "metadata": {},
          "execution_count": 10
        }
      ]
    },
    {
      "cell_type": "code",
      "metadata": {
        "colab": {
          "base_uri": "https://localhost:8080/"
        },
        "id": "p-HBADz5q-cj",
        "outputId": "1002ed32-da49-4153-b12f-b9dc32025ef3"
      },
      "source": [
        "validation_data_generator.labels"
      ],
      "execution_count": 11,
      "outputs": [
        {
          "output_type": "execute_result",
          "data": {
            "text/plain": [
              "array([0, 0, 0, ..., 1, 1, 1], dtype=int32)"
            ]
          },
          "metadata": {},
          "execution_count": 11
        }
      ]
    },
    {
      "cell_type": "code",
      "metadata": {
        "id": "jLmeV5NGVKj2"
      },
      "source": [
        "#from keras.preprocessing.image import load_img ,img_to_array\n",
        "#arr_img = img_to_array(train_data_generator[0])\n",
        "#plt.imshow(arr_img/255)"
      ],
      "execution_count": 12,
      "outputs": []
    },
    {
      "cell_type": "markdown",
      "metadata": {
        "id": "jUPVetdJ751D"
      },
      "source": [
        "## CNN MODEL BUILDING"
      ]
    },
    {
      "cell_type": "code",
      "metadata": {
        "id": "xABJPc6X8BBv"
      },
      "source": [
        "model = Sequential()\n",
        "\n",
        "model.add(Conv2D(16, (3,3), input_shape=(img_width,img_height,3) , activation = 'relu' ))  #no of filters. kernel size,..\n",
        "model.add(MaxPool2D(2,2))\n",
        "model.add(Dropout(0.2))\n",
        "\n",
        "model.add(Conv2D(32,(3,3), activation='relu'))\n",
        "model.add(MaxPool2D(2,2))\n",
        "model.add(Dropout(0.3))\n",
        "\n",
        "model.add(Flatten())\n",
        "model.add(Dense(64, activation='relu'))\n",
        "model.add(Dropout(0.5))\n",
        "\n",
        "model.add(Dense(1, activation='sigmoid'))"
      ],
      "execution_count": 13,
      "outputs": []
    },
    {
      "cell_type": "code",
      "metadata": {
        "colab": {
          "base_uri": "https://localhost:8080/"
        },
        "id": "CZ_5v54D9v8o",
        "outputId": "e3349918-678f-42fe-9277-c92b66df2510"
      },
      "source": [
        "model.summary()"
      ],
      "execution_count": 14,
      "outputs": [
        {
          "output_type": "stream",
          "name": "stdout",
          "text": [
            "Model: \"sequential\"\n",
            "_________________________________________________________________\n",
            " Layer (type)                Output Shape              Param #   \n",
            "=================================================================\n",
            " conv2d (Conv2D)             (None, 62, 62, 16)        448       \n",
            "                                                                 \n",
            " max_pooling2d (MaxPooling2D  (None, 31, 31, 16)       0         \n",
            " )                                                               \n",
            "                                                                 \n",
            " dropout (Dropout)           (None, 31, 31, 16)        0         \n",
            "                                                                 \n",
            " conv2d_1 (Conv2D)           (None, 29, 29, 32)        4640      \n",
            "                                                                 \n",
            " max_pooling2d_1 (MaxPooling  (None, 14, 14, 32)       0         \n",
            " 2D)                                                             \n",
            "                                                                 \n",
            " dropout_1 (Dropout)         (None, 14, 14, 32)        0         \n",
            "                                                                 \n",
            " flatten (Flatten)           (None, 6272)              0         \n",
            "                                                                 \n",
            " dense (Dense)               (None, 64)                401472    \n",
            "                                                                 \n",
            " dropout_2 (Dropout)         (None, 64)                0         \n",
            "                                                                 \n",
            " dense_1 (Dense)             (None, 1)                 65        \n",
            "                                                                 \n",
            "=================================================================\n",
            "Total params: 406,625\n",
            "Trainable params: 406,625\n",
            "Non-trainable params: 0\n",
            "_________________________________________________________________\n"
          ]
        }
      ]
    },
    {
      "cell_type": "code",
      "metadata": {
        "id": "5AQJ0rYl91Ue"
      },
      "source": [
        "model.compile(optimizer='adam', loss='binary_crossentropy', metrics=['accuracy'])"
      ],
      "execution_count": 15,
      "outputs": []
    },
    {
      "cell_type": "markdown",
      "metadata": {
        "id": "5dkB0Ep8AjN9"
      },
      "source": [
        ""
      ]
    },
    {
      "cell_type": "code",
      "metadata": {
        "colab": {
          "base_uri": "https://localhost:8080/"
        },
        "id": "1t97utPa-wHU",
        "outputId": "cc588067-826d-4b49-ace5-ce9215991f26"
      },
      "source": [
        "history = model.fit_generator(generator=train_data_generator, \n",
        "                              steps_per_epoch = len(train_data_generator),\n",
        "                              epochs = 7,\n",
        "                              validation_data = validation_data_generator,\n",
        "                              validation_steps = len(validation_data_generator)                             \n",
        "                              )\n"
      ],
      "execution_count": 16,
      "outputs": [
        {
          "output_type": "stream",
          "name": "stderr",
          "text": [
            "/usr/local/lib/python3.7/dist-packages/ipykernel_launcher.py:5: UserWarning: `Model.fit_generator` is deprecated and will be removed in a future version. Please use `Model.fit`, which supports generators.\n",
            "  \"\"\"\n"
          ]
        },
        {
          "output_type": "stream",
          "name": "stdout",
          "text": [
            "Epoch 1/7\n",
            "1378/1378 [==============================] - 127s 92ms/step - loss: 0.5305 - accuracy: 0.7324 - val_loss: 0.2952 - val_accuracy: 0.9216\n",
            "Epoch 2/7\n",
            "1378/1378 [==============================] - 129s 94ms/step - loss: 0.2555 - accuracy: 0.9204 - val_loss: 0.1858 - val_accuracy: 0.9328\n",
            "Epoch 3/7\n",
            "1378/1378 [==============================] - 128s 93ms/step - loss: 0.2037 - accuracy: 0.9265 - val_loss: 0.1788 - val_accuracy: 0.9328\n",
            "Epoch 4/7\n",
            "1378/1378 [==============================] - 132s 96ms/step - loss: 0.1971 - accuracy: 0.9368 - val_loss: 0.1687 - val_accuracy: 0.9401\n",
            "Epoch 5/7\n",
            "1378/1378 [==============================] - 135s 98ms/step - loss: 0.1806 - accuracy: 0.9430 - val_loss: 0.1740 - val_accuracy: 0.9399\n",
            "Epoch 6/7\n",
            "1378/1378 [==============================] - 132s 96ms/step - loss: 0.1707 - accuracy: 0.9468 - val_loss: 0.1924 - val_accuracy: 0.9358\n",
            "Epoch 7/7\n",
            "1378/1378 [==============================] - 136s 99ms/step - loss: 0.1648 - accuracy: 0.9497 - val_loss: 0.1626 - val_accuracy: 0.9417\n"
          ]
        }
      ]
    },
    {
      "cell_type": "code",
      "metadata": {
        "id": "01UiXz2a_gyr",
        "colab": {
          "base_uri": "https://localhost:8080/"
        },
        "outputId": "e34021a7-738e-4c76-acb9-d7f677cfab2d"
      },
      "source": [
        "history.history"
      ],
      "execution_count": 17,
      "outputs": [
        {
          "output_type": "execute_result",
          "data": {
            "text/plain": [
              "{'accuracy': [0.7323566675186157,\n",
              "  0.9204009175300598,\n",
              "  0.9265239238739014,\n",
              "  0.9368196725845337,\n",
              "  0.9429880380630493,\n",
              "  0.9467525482177734,\n",
              "  0.9497460126876831],\n",
              " 'loss': [0.5304710268974304,\n",
              "  0.25545451045036316,\n",
              "  0.20372328162193298,\n",
              "  0.1971142292022705,\n",
              "  0.18060225248336792,\n",
              "  0.17067492008209229,\n",
              "  0.16482481360435486],\n",
              " 'val_accuracy': [0.9215971231460571,\n",
              "  0.9328493475914001,\n",
              "  0.9328493475914001,\n",
              "  0.9401088953018188,\n",
              "  0.9399273991584778,\n",
              "  0.9357531666755676,\n",
              "  0.9417423009872437],\n",
              " 'val_loss': [0.29515591263771057,\n",
              "  0.1858474165201187,\n",
              "  0.17884063720703125,\n",
              "  0.16869424283504486,\n",
              "  0.17403896152973175,\n",
              "  0.1924210488796234,\n",
              "  0.16263538599014282]}"
            ]
          },
          "metadata": {},
          "execution_count": 17
        }
      ]
    },
    {
      "cell_type": "code",
      "metadata": {
        "id": "c9Hqc7s2AFc2"
      },
      "source": [
        "def plot_learningCurve(history, epoch):\n",
        "  # Plot training & validation accuracy values\n",
        "  epoch_range = range(1, epoch+1)\n",
        "  plt.plot(epoch_range, history.history['accuracy'])\n",
        "  plt.plot(epoch_range, history.history['val_accuracy'])\n",
        "  plt.title('Model accuracy')\n",
        "  plt.ylabel('Accuracy')\n",
        "  plt.xlabel('Epoch')\n",
        "  plt.legend(['Train', 'Val'], loc='upper left')\n",
        "  plt.show()\n",
        "\n",
        "  # Plot training & validation loss values\n",
        "  plt.plot(epoch_range, history.history['loss'])\n",
        "  plt.plot(epoch_range, history.history['val_loss'])\n",
        "  plt.title('Model loss')\n",
        "  plt.ylabel('Loss')\n",
        "  plt.xlabel('Epoch')\n",
        "  plt.legend(['Train', 'Val'], loc='upper left')\n",
        "  plt.show()"
      ],
      "execution_count": 18,
      "outputs": []
    },
    {
      "cell_type": "code",
      "metadata": {
        "id": "51td5kHCAFfU",
        "colab": {
          "base_uri": "https://localhost:8080/",
          "height": 573
        },
        "outputId": "a304c623-dd12-415e-fdcf-dfd25c251ef7"
      },
      "source": [
        "plot_learningCurve(history, 7)"
      ],
      "execution_count": 19,
      "outputs": [
        {
          "output_type": "display_data",
          "data": {
            "image/png": "[encoded data removed]",
            "text/plain": [
              "<Figure size 432x288 with 1 Axes>"
            ]
          },
          "metadata": {
            "needs_background": "light"
          }
        },
        {
          "output_type": "display_data",
          "data": {
            "image/png": "[encoded data removed]",
            "text/plain": [
              "<Figure size 432x288 with 1 Axes>"
            ]
          },
          "metadata": {
            "needs_background": "light"
          }
        }
      ]
    },
    {
      "cell_type": "code",
      "metadata": {
        "id": "hDo0HOVIUrbm"
      },
      "source": [
        "#import pickle\n",
        "#model.save('basic_cnn.h5')"
      ],
      "execution_count": 20,
      "outputs": []
    },
    {
      "cell_type": "code",
      "metadata": {
        "id": "olDiGQPCMsCg"
      },
      "source": [
        "#basic_cnn = tf.keras.models.load_model('./basic_cnn.h5')"
      ],
      "execution_count": 21,
      "outputs": []
    },
    {
      "cell_type": "markdown",
      "metadata": {
        "id": "kACm77XXNJJo"
      },
      "source": [
        ""
      ]
    },
    {
      "cell_type": "code",
      "metadata": {
        "id": "7bOgQRJRp9-R"
      },
      "source": [
        ""
      ],
      "execution_count": 21,
      "outputs": []
    },
    {
      "cell_type": "markdown",
      "metadata": {
        "id": "PKu8DEPcuadY"
      },
      "source": [
        "### TESTING"
      ]
    },
    {
      "cell_type": "code",
      "metadata": {
        "id": "SmokCa9jpFZs"
      },
      "source": [
        "from tensorflow.keras.preprocessing.image import img_to_array, load_img, array_to_img\n"
      ],
      "execution_count": 22,
      "outputs": []
    },
    {
      "cell_type": "code",
      "metadata": {
        "id": "vLjUVvANZFq5"
      },
      "source": [
        "img1=load_img('/content/AI-Project/malaria-dataset/Parasitized/C100P61ThinF_IMG_20150918_144104_cell_162.png',target_size=(img_width,img_height))\n",
        "img2=load_img('/content/AI-Project/malaria-dataset/Parasitized/C100P61ThinF_IMG_20150918_144104_cell_163.png',target_size=(img_width,img_height))\n",
        "img3=load_img('/content/AI-Project/malaria-dataset/Uninfected/C100P61ThinF_IMG_20150918_144104_cell_128.png', target_size=(img_width,img_height))"
      ],
      "execution_count": 23,
      "outputs": []
    },
    {
      "cell_type": "code",
      "metadata": {
        "id": "B-zPjAgPsQZr"
      },
      "source": [
        "x1 = img_to_array(img1)\n",
        "x2 = img_to_array(img2)\n",
        "x3 = img_to_array(img3)\n"
      ],
      "execution_count": 24,
      "outputs": []
    },
    {
      "cell_type": "code",
      "metadata": {
        "id": "Q34zihP-ZFvc"
      },
      "source": [
        "x1 = x1.reshape((1,) + x1.shape)\n",
        "x2 = x2.reshape((1,) + x2.shape)\n",
        "x3 = x3.reshape((1,) + x3.shape)\n"
      ],
      "execution_count": 25,
      "outputs": []
    },
    {
      "cell_type": "code",
      "metadata": {
        "id": "zXGGOEYPZvem"
      },
      "source": [
        "y1 = model.predict(x1)\n",
        "y2 = model.predict(x2)\n",
        "y3 = model.predict(x3)\n"
      ],
      "execution_count": 26,
      "outputs": []
    },
    {
      "cell_type": "code",
      "metadata": {
        "colab": {
          "base_uri": "https://localhost:8080/",
          "height": 286
        },
        "id": "Vq37T6HV1sJA",
        "outputId": "e87447c7-750f-4d82-b939-bcc8ec305b72"
      },
      "source": [
        "plt.imshow(img1)\n",
        "if y1==1:\n",
        "  print('The prediction for image1 is : UNINFECTED')\n",
        "if y1==0:\n",
        "  print('The prediction for image1 is : PARASITIZED')"
      ],
      "execution_count": 27,
      "outputs": [
        {
          "output_type": "stream",
          "name": "stdout",
          "text": [
            "The prediction for image1 is : PARASITIZED\n"
          ]
        },
        {
          "output_type": "display_data",
          "data": {
            "image/png": "[encoded data removed]",
            "text/plain": [
              "<Figure size 432x288 with 1 Axes>"
            ]
          },
          "metadata": {
            "needs_background": "light"
          }
        }
      ]
    },
    {
      "cell_type": "code",
      "metadata": {
        "colab": {
          "base_uri": "https://localhost:8080/",
          "height": 286
        },
        "id": "N5XYXLpE2Guh",
        "outputId": "ce7ac9da-f9ff-413b-c78b-af49f74132fa"
      },
      "source": [
        "plt.imshow(img3)\n",
        "if y3==1:\n",
        "  print('The prediction for image2 is : UNINFECTED')\n",
        "if y3==0:\n",
        "  print('The prediction for image2 is : PARASITIZED')"
      ],
      "execution_count": 28,
      "outputs": [
        {
          "output_type": "stream",
          "name": "stdout",
          "text": [
            "The prediction for image2 is : UNINFECTED\n"
          ]
        },
        {
          "output_type": "display_data",
          "data": {
            "image/png": "[encoded data removed]",
            "text/plain": [
              "<Figure size 432x288 with 1 Axes>"
            ]
          },
          "metadata": {
            "needs_background": "light"
          }
        }
      ]
    },
    {
      "cell_type": "code",
      "metadata": {
        "id": "4NZSmYeUsnTp"
      },
      "source": [
        ""
      ],
      "execution_count": 28,
      "outputs": []
    }
  ]
}